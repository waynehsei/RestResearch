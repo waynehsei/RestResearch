{
 "cells": [
  {
   "cell_type": "code",
   "execution_count": 1,
   "metadata": {},
   "outputs": [
    {
     "name": "stdout",
     "output_type": "stream",
     "text": [
      "Welcome to\n",
      "      ____              __\n",
      "     / __/__  ___ _____/ /__\n",
      "    _\\ \\/ _ \\/ _ `/ __/  '_/\n",
      "   /__ / .__/\\_,_/_/ /_/\\_\\   version 2.1.1\n",
      "      /_/\n",
      "\n",
      "Using Python version 2.7.13 (default, Dec 20 2016 23:05:08)\n",
      "SparkSession available as 'spark'.\n"
     ]
    }
   ],
   "source": [
    "import os\n",
    "execfile(os.path.join(os.environ[\"SPARK_HOME\"], 'python/pyspark/shell.py'))"
   ]
  },
  {
   "cell_type": "code",
   "execution_count": 2,
   "metadata": {
    "collapsed": true
   },
   "outputs": [],
   "source": [
    "import pickle\n",
    "phrases = pickle.load(open(\"/Users/lakerwayne/Desktop/YelpChallenge/pre_phrases.pickle\",\"rb\"))"
   ]
  },
  {
   "cell_type": "code",
   "execution_count": 3,
   "metadata": {
    "collapsed": true
   },
   "outputs": [],
   "source": [
    "#from pyspark.mllib.clustering import KMeans\n",
    "from numpy import array\n",
    "rname = []\n",
    "data = []\n",
    "for p in phrases.keys():\n",
    "    rname.append(p)\n",
    "    data.append(phrases[p])"
   ]
  },
  {
   "cell_type": "code",
   "execution_count": 4,
   "metadata": {},
   "outputs": [
    {
     "name": "stdout",
     "output_type": "stream",
     "text": [
      "[0.828, 0.635, 0.133, 0.022, -0.125, -0.423, 0.013, 0.536, 0.169, -0.126, 0.434, -0.229, -0.257, -0.334, -0.217, -0.474, 0.109, 0.626, 0.409, 0.582, -0.973, 0.134, 0.403, -0.051, 0.462, 0.054, 0.914, -0.212, 1.355, -0.919, 0.881, 0.46, -0.049, 0.606, -1.352, -0.994, 0.235, -0.34, 0.49, 1.147, -0.026, 0.004, -0.295, -0.516, 0.231, -0.085, 0.732, 0.01, -1.555, 0.924, 1.126, 0.263, 0.448, 0.372, -0.849, -0.223, 0.389, 0.805, 0.377, 1.037, -0.631, -0.131, 1.804, -0.378, 0.11, -0.285, 0.154, 0.747, -1.061, 0.197, -1.141, 0.808, -0.008, 0.491, -0.136, -0.387, -0.463, 0.698, 0.861, -0.313, 0.742, -0.526, -0.151, -0.576, 0.455, 0.05, 0.157, -0.524, 0.354, 0.77, -0.124, -1.39, -0.294, 0.616, 1.23, 0.277, 0.094, -0.392, 0.66, 1.215]\n"
     ]
    }
   ],
   "source": [
    "print data[0]"
   ]
  },
  {
   "cell_type": "code",
   "execution_count": 5,
   "metadata": {},
   "outputs": [
    {
     "name": "stdout",
     "output_type": "stream",
     "text": [
      "5250\n"
     ]
    }
   ],
   "source": [
    "print len(rname)"
   ]
  },
  {
   "cell_type": "code",
   "execution_count": 6,
   "metadata": {},
   "outputs": [
    {
     "name": "stdout",
     "output_type": "stream",
     "text": [
      "[[ 0.828  0.635  0.133 ..., -0.392  0.66   1.215]\n",
      " [-0.205 -0.206  0.189 ...,  0.522  0.25   0.178]\n",
      " [ 0.192  0.005 -0.274 ..., -0.296 -0.057  0.339]\n",
      " ..., \n",
      " [-0.734 -0.309  0.094 ...,  0.129 -0.816 -0.165]\n",
      " [ 2.524  1.354  0.191 ..., -1.435  1.712  2.349]\n",
      " [-0.086  0.249 -0.026 ...,  0.15  -0.049  0.11 ]]\n"
     ]
    }
   ],
   "source": [
    "#from pyspark.mllib.clustering import KMeans\n",
    "from numpy import array\n",
    "data = array(data).reshape(5250, 100)\n",
    "print data"
   ]
  },
  {
   "cell_type": "code",
   "execution_count": 7,
   "metadata": {
    "collapsed": true
   },
   "outputs": [],
   "source": [
    "from __future__ import print_function\n",
    "\n",
    "from sklearn.metrics import silhouette_samples, silhouette_score\n",
    "\n",
    "import matplotlib.pyplot as plt\n",
    "import matplotlib.cm as cm"
   ]
  },
  {
   "cell_type": "code",
   "execution_count": 8,
   "metadata": {},
   "outputs": [
    {
     "name": "stdout",
     "output_type": "stream",
     "text": [
      "For n_clusters = 2 The average silhouette_score is : 0.542676910578\n",
      "For n_clusters = 3 The average silhouette_score is : 0.385886126065\n",
      "For n_clusters = 4 The average silhouette_score is : 0.405645837775\n",
      "For n_clusters = 5 The average silhouette_score is : 0.403855120095\n",
      "For n_clusters = 6 The average silhouette_score is : 0.416276476426\n",
      "For n_clusters = 7 The average silhouette_score is : 0.423845463288\n",
      "For n_clusters = 8 The average silhouette_score is : 0.28930009298\n",
      "For n_clusters = 9 The average silhouette_score is : 0.32721377617\n",
      "For n_clusters = 10 The average silhouette_score is : 0.289221511224\n",
      "For n_clusters = 11 The average silhouette_score is : 0.234152511747\n",
      "For n_clusters = 12 The average silhouette_score is : 0.246024116322\n",
      "For n_clusters = 13 The average silhouette_score is : 0.257452553673\n",
      "For n_clusters = 14 The average silhouette_score is : 0.238767638425\n",
      "For n_clusters = 15 The average silhouette_score is : 0.218870082799\n",
      "For n_clusters = 16 The average silhouette_score is : 0.232099076932\n",
      "For n_clusters = 17 The average silhouette_score is : 0.22279994095\n",
      "For n_clusters = 18 The average silhouette_score is : 0.229364817309\n",
      "For n_clusters = 19 The average silhouette_score is : 0.213037017787\n",
      "For n_clusters = 20 The average silhouette_score is : 0.214951023227\n"
     ]
    }
   ],
   "source": [
    "from sklearn.cluster import KMeans\n",
    "import numpy as np\n",
    "\n",
    "range_n_clusters = range(2,21)\n",
    "\n",
    "for n_clusters in range_n_clusters:\n",
    "    \n",
    "    model = KMeans(n_clusters=n_clusters, random_state=10)\n",
    "    cluster_ind = model.fit_predict(data)\n",
    "    \n",
    "    silhouette_avg = silhouette_score(data, cluster_ind)\n",
    "    print(\"For n_clusters =\", n_clusters,\n",
    "          \"The average silhouette_score is :\", silhouette_avg)"
   ]
  },
  {
   "cell_type": "code",
   "execution_count": 9,
   "metadata": {},
   "outputs": [],
   "source": [
    "from sklearn.cluster import KMeans\n",
    "k = 7\n",
    "clusterer = KMeans(n_clusters=k, random_state=10)\n",
    "cluster_label = clusterer.fit_predict(data)"
   ]
  },
  {
   "cell_type": "code",
   "execution_count": null,
   "metadata": {
    "collapsed": true
   },
   "outputs": [],
   "source": [
    "cluster_label.tolist()"
   ]
  },
  {
   "cell_type": "code",
   "execution_count": 10,
   "metadata": {
    "collapsed": true
   },
   "outputs": [],
   "source": [
    "results = {label:[] for label in range(k)}\n",
    "cluster_label = cluster_label.tolist()\n",
    "for i in range(len(rname)):\n",
    "    results[cluster_label[i]].append(rname[i])"
   ]
  },
  {
   "cell_type": "code",
   "execution_count": 22,
   "metadata": {},
   "outputs": [
    {
     "data": {
      "text/plain": [
       "list"
      ]
     },
     "execution_count": 22,
     "metadata": {},
     "output_type": "execute_result"
    }
   ],
   "source": [
    "type(results[2])"
   ]
  },
  {
   "cell_type": "code",
   "execution_count": 24,
   "metadata": {},
   "outputs": [],
   "source": [
    "with open(\"italian_cuisine.txt\", \"w\") as txtfile:\n",
    "    for c in results[2]:\n",
    "        txtfile.write(c.encode('ascii', 'ignore'))\n",
    "        txtfile.write('\\n')"
   ]
  },
  {
   "cell_type": "code",
   "execution_count": null,
   "metadata": {
    "collapsed": true
   },
   "outputs": [],
   "source": [
    "from sklearn.cluster import KMeans\n",
    "import numpy as np\n",
    "\n",
    "range_n_clusters = [11,12,13,14]\n",
    "\n",
    "for n_clusters in range_n_clusters:\n",
    "    # Create a subplot with 1 row and 2 columns\n",
    "    fig, (ax1, ax2) = plt.subplots(1, 2)\n",
    "    fig.set_size_inches(18, 7)\n",
    "\n",
    "    # The 1st subplot is the silhouette plot\n",
    "    # The silhouette coefficient can range from -1, 1 but in this example all\n",
    "    # lie within [-0.1, 1]\n",
    "    ax1.set_xlim([-1, 1])\n",
    "    # The (n_clusters+1)*10 is for inserting blank space between silhouette\n",
    "    # plots of individual clusters, to demarcate them clearly.\n",
    "    ax1.set_ylim([0, len(data) + (n_clusters + 1) * 10])\n",
    "    \n",
    "    model = KMeans(n_clusters=n_clusters, random_state=10)\n",
    "    cluster_ind = model.fit_predict(data)\n",
    "\n",
    "    # Initialize the clusterer with n_clusters value and a random generator\n",
    "    # seed of 10 for reproducibility.\n",
    "    # clusterer = KMeans(n_clusters=n_clusters, random_state=10)\n",
    "    # cluster_labels = clusterer.fit_predict(X)\n",
    "\n",
    "    # The silhouette_score gives the average value for all the samples.\n",
    "    # This gives a perspective into the density and separation of the formed\n",
    "    # clusters\n",
    "    silhouette_avg = silhouette_score(data, cluster_ind)\n",
    "    print(\"For n_clusters =\", n_clusters,\n",
    "          \"The average silhouette_score is :\", silhouette_avg)\n",
    "\n",
    "    # Compute the silhouette scores for each sample\n",
    "    sample_silhouette_values = silhouette_samples(data, cluster_ind)\n",
    "\n",
    "    y_lower = 10\n",
    "    for i in range(n_clusters):\n",
    "        # Aggregate the silhouette scores for samples belonging to\n",
    "        # cluster i, and sort them\n",
    "        ith_cluster_silhouette_values = \\\n",
    "            sample_silhouette_values[cluster_ind == i]\n",
    "\n",
    "        ith_cluster_silhouette_values.sort()\n",
    "\n",
    "        size_cluster_i = ith_cluster_silhouette_values.shape[0]\n",
    "        y_upper = y_lower + size_cluster_i\n",
    "\n",
    "        color = cm.spectral(float(i) / n_clusters)\n",
    "        ax1.fill_betweenx(np.arange(y_lower, y_upper),\n",
    "                          0, ith_cluster_silhouette_values,\n",
    "                          facecolor=color, edgecolor=color, alpha=0.7)\n",
    "\n",
    "        # Label the silhouette plots with their cluster numbers at the middle\n",
    "        ax1.text(-0.05, y_lower + 0.5 * size_cluster_i, str(i))\n",
    "\n",
    "        # Compute the new y_lower for next plot\n",
    "        y_lower = y_upper + 10  # 10 for the 0 samples\n",
    "\n",
    "    ax1.set_title(\"The silhouette plot for the various clusters.\")\n",
    "    ax1.set_xlabel(\"The silhouette coefficient values\")\n",
    "    ax1.set_ylabel(\"Cluster label\")\n",
    "\n",
    "    # The vertical line for average silhouette score of all the values\n",
    "    ax1.axvline(x=silhouette_avg, color=\"red\", linestyle=\"--\")\n",
    "\n",
    "    ax1.set_yticks([])  # Clear the yaxis labels / ticks\n",
    "    ax1.set_xticks([-0.1, 0, 0.2, 0.4, 0.6, 0.8, 1])\n",
    "\n",
    "    # 2nd Plot showing the actual clusters formed\n",
    "    colors = cm.spectral(cluster_ind.astype(float) / n_clusters)\n",
    "    ax2.scatter(data[:, 0], data[:, 1], marker='.', s=30, lw=0, alpha=0.7,\n",
    "                c=colors)\n",
    "\n",
    "    # Labeling the clusters\n",
    "    centers = model.cluster_centers_\n",
    "    # Draw white circles at cluster centers\n",
    "    ax2.scatter(centers[:, 0], centers[:, 1],\n",
    "                marker='o', c=\"white\", alpha=1, s=200)\n",
    "\n",
    "    for i, c in enumerate(centers):\n",
    "        ax2.scatter(c[0], c[1], marker='$%d$' % i, alpha=1, s=50)\n",
    "\n",
    "    ax2.set_title(\"The visualization of the clustered data.\")\n",
    "    ax2.set_xlabel(\"Feature space for the 1st feature\")\n",
    "    ax2.set_ylabel(\"Feature space for the 2nd feature\")\n",
    "\n",
    "    plt.suptitle((\"Silhouette analysis for KMeans clustering on sample data \"\n",
    "                  \"with n_clusters = %d\" % n_clusters),\n",
    "                 fontsize=14, fontweight='bold')\n",
    "\n",
    "    plt.show()"
   ]
  },
  {
   "cell_type": "code",
   "execution_count": 36,
   "metadata": {
    "collapsed": true
   },
   "outputs": [],
   "source": [
    "k = 3 #no. of clusters\n",
    "model = KMeans.train(sc.parallelize(data), k, maxIterations=10, runs=30, initializationMode=\"random\",\n",
    "                seed=50, initializationSteps=5, epsilon=1e-4)\n",
    "\n",
    "cluster_ind = model.predict(sc.parallelize(data))"
   ]
  },
  {
   "cell_type": "code",
   "execution_count": null,
   "metadata": {
    "collapsed": true
   },
   "outputs": [],
   "source": [
    "cluster = cluster_ind.collect()"
   ]
  },
  {
   "cell_type": "code",
   "execution_count": 39,
   "metadata": {},
   "outputs": [
    {
     "name": "stdout",
     "output_type": "stream",
     "text": [
      "{0: [], 1: [], 2: []}\n"
     ]
    }
   ],
   "source": [
    "results = {label:[] for label in range(k)}\n",
    "print results"
   ]
  },
  {
   "cell_type": "code",
   "execution_count": 42,
   "metadata": {
    "collapsed": true
   },
   "outputs": [],
   "source": [
    "for i in range(len(rname)):\n",
    "    results[cluster[i]].append(rname[i])"
   ]
  },
  {
   "cell_type": "code",
   "execution_count": 45,
   "metadata": {},
   "outputs": [
    {
     "name": "stdout",
     "output_type": "stream",
     "text": [
      "['high_five', 'humanly_possible', 'newly_remodeled', 'immediately_taken', 'kept_filled', 'poker_room', 'pleasurable_experience', 'every_single', 'extraordinary_measures', 'hardwood_floors', 'arrowhead_location', 'staying_at', 'financial_district', 'freemont_street', 'washington_dc', 'panda_express', 'naked_city', 'ciao_wine', 'reasons_why', 'favorable_reviews', 'additional_tables', 'americanized_italian', 'lasting_impression', 'working_late', 'friendly_and', 'comp_us', 'rewards_card', 'exterior_fool', 'problem_was', 'celiac_disease', 'garage_style', 'adorable_little', 'lovely_little', 'table_near', 'loving_it', 'vice_versa', 'mafia_movie', 'celebrating_something', 'fits_right', 'completely_empty', 'rainy_day', 'bartender_made', 'counter_top', 'truth_is', 'dimmed_lighting', 'giada_herself', 'dont_need', 'handy_dandy', 'misting_system', 'breathtaking_views', 'approach_us', 'fairly_empty', 'calling_back', 'food_always', 'located_right', 'gummy_bears', 'thats_fine', 'grew_up', 'hang_up', 'lawrence_market', 'automatically_added', 'wholeheartedly_recommend', 'seek_out', 'smart_move', 'phillips_place', 'vaulted_ceilings', 'mid_week', 'virtually_every', 'yrs_old', 'stayed_full', 'heard_of', 'subway_station', 'standing_right', 'jw_marriott', 'tastefully_done', 'may_be', 'called_them', 'scottsdale_restaurants', 'hostess_came', 'cigarette_smoke', 'employees_seemed', 'arrogant_butcher', 'front_desk', 'cave_creek', 'lack_of', 'cosmopolitan_hotel', 'background_noise', 'george_street', 'leone_cafe', 'letting_us', 'cooler_weather', 'outta_there', 'impress_me', 'pit_stop', 'senior_citizen', 'upward_project', 'former_life', 'wolfgang_pucks', 'lobby_area', 'radio_station', 'dine_at', 'pleasantly_full', 'kierland_commons', 'pv_mall', 'hate_going', 'highly_recommend', 'much_effort', 'homestyle_italian', 'richmond_hill', 'draft_beer', 'good_food', 'acknowledged_me', 'act_like', 'stumbled_across', 'danforth_location', 'seems_like', 'bayview_village', 'four_stars', 'wearing_shorts', 'ne_corner', 'pregnant_woman', 'cultural_district', 'princes_street', 'eglinton_location', 'attention_given', 'trader_joes', 'staten_island', 'carla_pellegrino', 'oyster_bars', 'god_bless', 'paying_for', 'feel_like', 'already_added', 'winter_time', 'greet_us', 'jammed_packed', 'charming_little', 'mothers_day', 'banquet_hall', 'checkered_table', 'loyal_following', 'myers_park', 'new_addition', 'friends_i', 'constructive_criticism', 'missing_out', 'story_behind', 'trolley_car', 'kitchen_help', 'sincere_apology', 'engagement_party', 'aware_of', 'nowhere_near', 'prix_fixe', 'az_area', 'came_back', 'pi_co', 'ave_location', 'downstairs_area', 'waiting_for', 'society_caf', 'tank_top', 'closed_due', 'stained_glass', 'later_on', 'day_trip', 'dimly_lit', 'become_one', 'anniversary_special', 'gracious_hosts', 'funky_atmosphere', 'exorbitant_prices', 'ny_style', 'chill_night', 'need_to', 'wine_and', 'jets_pizza', 'galleria_mall', 'bustling_atmosphere', 'craps_table', 'minus_one', 'ten_tables', 'cn_tower', 'attractive_staff', 'warm_welcome', 'yet_another', 'mgm_grand', 'stressed_out', 'wouldnt_go', 'child_friendly', 'charging_us', 'horror_stories', 'jean_talon', 'pass_along', 'federal_pizza', 'started_going', 'kindly_asked', 'serving_drinks', 'fly_back', 'sky_harbor', 'buyer_beware', 'gotten_better', 'sin_city', 'hung_on', 'eating_here', 'acknowledging_us', 'college_campus', 'dueling_pianos', 'blind_date', 'lighten_up', 'rocket_science', 'disgusting_food', 'memorable_night', 'shark_tank', 'daughters_birthday', 'paid_for', 'neighboring_restaurant', 'stuff_happens', 'casanova_brothers', 'beaten_path', 'palazzo_venetian', 'united_states', 'vantage_point', 'casa_di', 'moves_quickly', 'film_festival', 'fuss_about', 'finer_dining', 'attended_to', 'peter_piper', 'apartment_building', 'comfy_seats', 'spinatos_pizza', 'panoramic_view', 'surrounding_areas', 'palm_trees', 'subdued_lighting', 'airport_location', 'sound_like', 'credit_card', 'amateur_hour', 'ghost_town', 'queens_feast', 'comfortable_space', 'stone_vine', 'eclectic_mix', 'canal_shoppes', 'hopefully_next', 'shade_trees', 'terrible_experience', 'opened_up', 'looking_forward', 'trevi_fountain', 'pinnacle_peak', 'lets_get', 'acknowledge_us', 'point_is', 'urban_vibe', 'holiday_party', 'pf_changs', 'celine_dion', 'shaded_patio', 'notre_dame', 'complain_about', 'balcony_area', 'clair_west', 'voice_mail', 'eaten_here', 'sunny_day', 'thanking_us', 'pony_tail', 'sporting_events', 'event_going', 'retail_store', 'student_budget', 'african_american', 'joes_farm', 'modern_look', 'gets_better', 'roller_coaster', 'networking_event', 'comes_back', 'confirmation_email', 'winterlicious_event', 'rancho_pinot', 'painfully_slow', 'rather_go', 'last_sunday', 'bring_it', 'smooth_jazz', 'bike_ride', 'traffic_noise', 'moderately_busy', 'restaurant_was', 'kinks_out', 'dark_interior', 'losing_money', 'escorted_us', 'back_and', 'grape_street', 'dj_playing', 'tuck_shop', 'touristy_area', 'running_around', 'juke_box', 'guided_us', 'familiar_with', 'laid_out', 'celebrity_chef', 'nasty_pizza', 'maitre_de', 'someplace_new', 'tag_along', 'awhile_back', 'central_avenue', 'stopped_in', 'bus_boy', 'brothers_pizza', 'hoover_dam', 'heritage_square', 'rat_pack', 'pizza_and', 'totally_empty', 'inattentive_service', 'fills_up', 'cruise_ship', 'local_crowd', 'shelly_pie', 'glendale_glitters', 'ate_there', 'exposed_brick', 'musician_playing', 'reverse_happy', 'game_on', 'centrally_located', 'following_night', 'thanked_us', 'cowboy_ciao', 'val_vista', 'dress_up', 'pickup_window', 'neon_lights', 'directed_us', 'voted_best', 'constant_flow', 'church_pews', 'pizzaria_bianco', 'language_barrier', 'paradise_bakery', 'drunk_people', 'tuesday_morning', 'theatre_district', 'tropicana_location', 'construction_going', 'looks_like', 'ken_stewart', 'shitty_service', 'multiple_times', 'freezing_cold', 'district_manager', 'friendliest_staff', 'pepsi_products', 'trivia_night', 'we_always', 'conversation_without', 'diverse_crowd', 'certain_amount', 'popular_restaurants', 'formal_dining', 'flip_flops', 'expiration_date', 'whole_concept', 'tomorrow_night', 'providing_us', 'reality_show', 'disappoints_me', 'rental_car', 'bare_bones', 'locations_around', 'listen_to', 'assisted_us', 'crammed_together', 'sounded_like', 'miserable_experience', 'horizon_ridge', 'stereotypical_italian', 'tightly_packed', 'ya_know', 'hong_kong', 'sel_gras', 'celebrated_many', 'trinity_bellwoods', 'ran_across', 'piano_playing', 'focal_point', 'crescent_street', 'unpretentious_atmosphere', 'coat_rack', 'mr_biaggio', 'ascari_enoteca', 'honor_it', 'oakville_location', 'bussing_tables', 'tivoli_gardens', 'tasteful_decor', 'able_to', 'skip_it', 'step_back', 'sub_par', 'cashier_said', 'stop_trying', 'seemed_like', 'face_value', 'normal_prices', 'propped_open', 'better_bet', 'legacy_village', 'best_italian', 'litchfield_park', 'five_minutes', 'buca_de', 'eiffel_tower', 'shaking_hands', 'stumble_across', 'heinz_hall', 'estimated_time', 'trouble_getting', 'pens_game', 'live_around', 'phone_call', 'coco_osteria', 'common_practice', 'unfriendly_staff', 'wobbly_table', 'homey_feel', 'baseball_team', 'nobody_ever', 'zip_code', 'christmas_time', 'fountain_show', 'pretty_sure', 'spoiler_alert', 'flag_down', 'expanded_menu', 'joel_robuchon', 'yr_old', 'convention_center', 'yeah_right', 'mistakes_happen', 'proper_training', 'wonderfully_friendly', 'tight_squeeze', 'dated_decor', 'ages_ago', 'line_up', 'dean_martin', 'alley_way', 'choose_one', 'sign_said', 'sum_up', 'ive_been', 'squirrel_hill', 'inform_us', 'bucca_di', 'herbs_rye', 'polar_opposite', 'greenbush_bar', 'relaxed_feel', 'fathers_day', 'wedding_dinner', 'dining_here', 'outstanding_service', 'say_it', 'pizzeria_bianco', 'chased_us', 'tables_available', 'identity_crisis', 'authentically_italian', 'isnt_bad', 'ignoring_us', 'doesnt_matter', 'mall_food', 'monday_thru', 'absolute_best', 'obnoxiously_loud', 'frustrating_experience', 'second_floor', 'valentines_day', 'twinkly_lights', 'course_dinner', 'wander_around', 'cared_less', 'email_club', 'community_tables', 'independent_restaurants', 'backyard_patio', 'youngest_people', 'grassy_area', 'romantically_lit', 'part_of', 'understandable_since', 'royal_york', 'sam_fox', 'sushi_bar', 'amore_taste', 'contact_me', 'rogers_centre', 'show_up', 'reclaimed_wood', 'short_time', 'corking_fee', 'mountains_edge', 'payless_pizza', 'stuck_around', 'haute_cuisine', 'port_credit', 'unprofessional_behavior', 'promptly_seated', 'guy_comes', 'mature_crowd', 'remake_it', 'staff_was', 'knew_it', 'uncomfortably_close', 'measure_up', 'wanted_to', 'ownership_change', 'michael_laplaca', 'told_her', 'east_side', 'mineos_pizza', 'lord_knows', 'rays_pizza', 'faux_pas', 'dare_say', 'shit_together', 'executive_chef', 'stand_there', 'hipster_vibe', 'smells_like', 'encourage_people', 'games_on', 'walk_away', 'enjoyable_atmosphere', 'vintage_vegas', 'checked_in', 'movies_playing', 'fashion_show', 'id_give', 'recent_visit', 'swanky_place', 'pei_wei', 'ample_time', 'worst_part', 'circles_around', 'bellagio_fountain', 'specials_going', 'havent_tried', 'wheelchair_accessible', 'rushing_us', 'treasure_island', 'in_case', 'buzzing_around', 'feeling_like', 'neapolitan_style', 'steelers_game', 'security_guards', 'acts_like', 'outback_steakhouse', 'strong_smell', 'building_looks', 'tao_nightclub', 'tourist_area', 'school_year', 'sotto_sotto', 'nicks_diner', 'bada_boom', 'mobile_app', 'james_beard', 'deli_side', 'curly_hair', 'empty_booths', 'kensington_market', 'graduation_party', 'politely_said', 'body_language', 'didnt_even', 'opens_up', 'lesson_learned', 'sports_on', 'heading_back', 'summerlin_area', 'destination_restaurant', 'mile_away', 'showed_up', 'harris_teeter', 'strike_one', 'classy_yet', 'history_behind', 'unassuming_little', 'suns_game', 'distillery_district', 'mt_washington', 'blu_basil', 'jays_game', 'bakery_next', 'la_piazza', 'ignore_us', 'tells_us', 'bridal_shower', 'woo_hoo', 'rightfully_so', 'arcade_games', 'cant_get', 'experiences_here', 'remembers_us', 'carry_out', 'higher_quality', 'liberty_market', 'blown_away', 'vpn_certified', 'legalize_marinara', 'baby_shower', 'figured_out', 'weeks_later', 'prohibition_era', 'horrendous_service', 'ruth_chris', 'hyde_bellagio', 'manager_said', 'booster_seat', 'finding_another', 'fabulous_atmosphere', 'dirty_looks', 'windy_city', 'movie_posters', 'joking_around', 'belly_full', 'rap_music', 'historic_building', 'chucky_cheese', 'foot_away', 'pop_in', 'parked_outside', 'rush_back', 'one_of', 'metropolitan_area', 'acted_like', 'planet_hollywood', 'generic_italian', 'nove_italiano', 'hangout_spot', 'gainey_ranch', 'underground_parking', 'robert_irvine', 'conveniently_located', 'wait_is', 'validate_parking', 'nye_dinner', 'driving_by', 'porta_bella', 'gold_mine', 'carson_street', 'low_enough', 'cell_number', 'residential_neighborhood', 'move_quickly', 'cleaning_up', 'maryland_parkway', 'thunderbird_location', 'camelback_road', 'picnic_tables', 'backed_up', 'many_times', 'still_waiting', 'facebook_page', 'hanging_out', 'known_better', 'suggested_going', 'independently_owned', 'ilios_noche', 'informing_us', 'hampton_inn', 'soccer_tournament', 'staffing_issue', 'rehearsal_dinner', 'website_said', 'extra_time', 'stress_enough', 'whose_name', 'soul_food', 'slices_available', 'village_square', 'shift_change', 'gilbert_pizza', 'sing_happy', 'flashing_lights', 'worth_coming', 'asked_him', 'deserve_it', 'ecco_vino', 'gladly_accepted', 'cherryblossom_noodle', 'mailing_list', 'successful_restaurant', 'celebration_dinner', 'too_bad', 'booths_available', 'exquisite_food', 'yards_away', 'uncalled_for', 'particularly_busy', 'marks_square', 'booked_up', 'progressively_worse', 'rare_find', 'false_advertising', 'aria_hotel', 'leith_walk', 'nook_kitchen', 'chit_chatting', 'metal_chairs', 'matre_d', 'informed_us', 'pay_for', 'us_at', 'ohio_state', 'yorkdale_mall', 'jam_packed', 'brings_us', 'mob_movie', 'going_to', 'cafe_next', 'pushing_us', 'leisurely_dinner', 'computer_system', 'scare_you', 'biltmore_area', 'violently_ill', 'numerous_restaurants', 'must_be', 'newport_beach', 'novecento_pizzeria', 'wall_behind', 'scheduled_time', 'even_begin', 'watering_hole', 'decades_ago', 'younger_people', 'goes_beyond', 'server_came', 'block_away', 'smiling_face', 'anywhere_close', 'complementary_valet', 'stepped_in', 'boston_pizza', 'extremely_difficult', 'paris_hotel', 'blank_stare', 'keep_coming', 'nicest_people', 'court_yard', 'messed_up', 'video_poker', 'ocean_club', 'mayfield_rd', 'friday_evening', 'marble_bar', 'rudely_said', 'brushed_off', 'limited_time', 'night_off', 'desperately_needs', 'everyone_else', 'replace_it', 'basically_ignored', 'adelaide_location', 'remained_empty', 'bigger_location', 'moving_around', 'finally_got', 'newer_location', 'waiter_was', 'suggest_trying', 'chat_with', 'bday_celebration', 'catching_up', 'guitar_player', 'eight_people', 'public_house', 'tommy_vs', 'chandler_blvd', 'steady_flow', 'summer_day', 'costumer_service', 'twinkling_lights', 'playhouse_square', 'otto_enoteca', 'bootlegger_bistro', 'retractable_roof', 'condescending_tone', 'self_parking', 'weeknight_dinner', 'frequently_visit', 'taken_back', 'crocker_park', 'know_exactly', 'filtration_system', 'celebratory_meal', 'either_way', 'figure_out', 'green_p', 'complete_without', 'distant_future', 'labor_day', 'medical_building', 'places_around', 'nights_later', 'welcome_change', 'dc_ranch', 'broadview_heights', 'acoustic_guitar', 'smelling_like', 'money_on', 'hands_down', 'human_being', 'avoided_eye', 'readily_available', 'solo_diner', 'venture_back', 'saved_us', 'piazza_san', 'mezzo_bistro', 'cirque_du', 'canada_day', 'practically_empty', 'alma_school', 'else_where', 'mellow_mushroom', 'sticks_around', 'piccolo_forno', 'osteria_dei', 'team_work', 'extended_periods', 'sent_out', 'caesars_palace', 'street_side', 'american_italian', 'wrap_around', 'became_available', 'natural_lighting', 'turning_around', 'turned_out', 'limo_ride', 'tile_floors', 'bother_going', 'junk_food', 'ever_come', 'cloth_napkin', 'chagrin_falls', 'enoteca_sociale', 'sadly_disappointed', 'selling_point', 'frost_gelato', 'first_experience', 'metro_pizza', 'greeted_me', 'techno_music', 'pos_system', 'provide_better', 'gonna_give', 'tuscany_gardens', 'brownie_points', 'dance_area', 'forward_to', 'happily_took', 'glasses_full', 'assist_us', 'patiently_waited', 'assisting_us', 'sold_out', 'zagat_rated', 'walked_out', 'tapatio_cliffs', 'carriage_house', 'revolving_door', 'brightly_lit', 'phx_area', 'yacht_club', 'initial_greeting', 'dairy_queen', 'outdoor_seating', 'hype_about', 'halloween_weekend', 'palace_station', 'fifteen_minutes', 'rolls_around', 'blame_them', 'goto_place', 'bachelorette_parties', 'sidewalk_seating', 'wake_up', 'incompetent_staff', 'golf_course', 'labour_day', 'neighborhood_hangout', 'next_time', 'heads_up', 'settle_in', 'sister_restaurant', 'miracle_mile', 'espressamente_illy', 'roaming_around', 'mystery_diners', 'remembered_us', 'thank_you', 'ha_ha', 'sell_us', 'offering_us', 'harvey_american', 'outdated_decor', 'pac_man', 'kit_kat', 'elite_event', 'that_made', 'memorial_day', 'closest_one', 'lv_blvd', 'consider_going', 'va_bene', 'cromwell_hotel', 'lucky_enough', 'obligatory_title', 'disappoint_me', 'naples_italy', 'rooftop_beer', 'shabby_chic', 'band_playing', 'booth_next', 'quickly_become', 'strictly_based', 'expecting_much', 'centered_around', 'vinyl_pi', 'accommodated_us', 'time_at', 'thought_it', 'twilight_zone', 'weekends_ago', 'palms_buffet', 'poor_lighting', 'misters_outside', 'continued_success', 'doors_down', 'year_since', 'gorgeous_inside', 'setting_up', 'significant_other', 'gondola_rides', 'difficulty_finding', 'anthony_bourdain', 'candlelit_tables', 'brand_name', 'sit_down', 'mood_for', 'native_new', 'walking_in', 'postino_location', 'lavo_nightclub', 'bogo_coupon', 'go_back', 'twinkle_lights', 'bowling_alley', 'eaton_centre', 'rarely_go', 'also_appreciate', 'generation_italian', 'pays_attention', 'sits_right', 'penn_avenue', 'outlet_mall', 'wed_night', 'lounge_style', 'keeps_getting', 'recently_moved', 'peak_time', 'gaming_bar', 'charged_twice', 'strip_hotel', 'panera_bread', 'arrival_time', 'homely_feel', 'date_night', 'music_is', 'rough_day', 'circle_k', 'las_vegas', 'northern_italian', 'greeting_people', 'hefty_bill', 'bay_st', 'frowned_upon', 'quoted_us', 'asian_cuisine', 'bell_rd', 'barely_anyone', 'ahwatukee_location', 'liquor_license', 'eklectic_pie', 'revolution_pizza', 'cramped_seating', 'accordion_player', 'cuoco_pazzo', 'carlos_bakery', 'pirate_show', 'cheapest_bottle', 'aesthetically_pleasing', 'jail_cells', 'dinning_experiences', 'steele_creek', 'beverly_hills', 'google_search', 'cause_its', 'thirty_minutes', 'herb_n', 'want_to', 'wee_hours', 'dunkin_donuts', 'veterans_day', 'casual_enough', 'impeccable_service', 'playoff_game', 'congratulated_us', 'xmas_eve', 'come_back', 'power_went', 'prep_area', 'male_employee', 'kind_of', 'genuine_interest', 'countless_times', 'extensive_wine', 'solid_three', 'ironed_out', 'pun_intended', 'feet_away', 'growing_up', 'shop_next', 'really_care', 'entry_way', 'expense_accounts', 'headed_over', 'sticker_shock', 'visiting_again', 'evel_knievel', 'grub_hub', 'spot_like', 'inviting_ambiance', 'dined_here', 'players_club', 'supper_club', 'playboy_club', 'concept_restaurant', 'changed_since', 'marcos_pizza', 'toronto_location', 'uh_oh', 'assure_you', 'gas_station', 'inconsistent_service', 'valued_customer', 'ripped_off', 'speakeasy_vibe', 'showing_up', 'cab_fare', 'twisted_pies', 'flying_around', 'lit_up', 'current_location', 'en_route', 'boca_park', 'atrocious_service', 'sienna_sulla', 'road_location', 'warmly_greeted', 'closer_look', 'snow_storm', 'cutest_little', 'accept_reservations', 'often_seen', 'reads_this', 'family_used', 'said_forget', 'adult_beverages', 'pirates_game', 'make_it', 'incorrect_order', 'definitely_ask', 'stones_throw', 'truck_stop', 'catch_up', 'early_enough', 'accidents_happen', 'would_absolutely', 'establishment_again', 'customer_came', 'chalkboard_menu', 'top_everything', 'turns_around', 'ellis_island', 'sat_there', 'military_discount', 'cracking_jokes', 'wrought_iron', 'reception_desk', 'tell_me', 'science_center', 'tues_night']\n"
     ]
    }
   ],
   "source": [
    "print results[2]"
   ]
  }
 ],
 "metadata": {
  "kernelspec": {
   "display_name": "Python 2",
   "language": "python",
   "name": "python2"
  },
  "language_info": {
   "codemirror_mode": {
    "name": "ipython",
    "version": 2
   },
   "file_extension": ".py",
   "mimetype": "text/x-python",
   "name": "python",
   "nbconvert_exporter": "python",
   "pygments_lexer": "ipython2",
   "version": "2.7.13"
  }
 },
 "nbformat": 4,
 "nbformat_minor": 2
}
