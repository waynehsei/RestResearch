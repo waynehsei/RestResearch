{
 "cells": [
  {
   "cell_type": "code",
   "execution_count": 1,
   "metadata": {},
   "outputs": [
    {
     "name": "stdout",
     "output_type": "stream",
     "text": [
      "Welcome to\n",
      "      ____              __\n",
      "     / __/__  ___ _____/ /__\n",
      "    _\\ \\/ _ \\/ _ `/ __/  '_/\n",
      "   /__ / .__/\\_,_/_/ /_/\\_\\   version 2.1.1\n",
      "      /_/\n",
      "\n",
      "Using Python version 2.7.13 (default, Dec 20 2016 23:05:08)\n",
      "SparkSession available as 'spark'.\n"
     ]
    }
   ],
   "source": [
    "import os\n",
    "execfile(os.path.join(os.environ[\"SPARK_HOME\"], 'python/pyspark/shell.py'))"
   ]
  },
  {
   "cell_type": "code",
   "execution_count": 3,
   "metadata": {},
   "outputs": [],
   "source": [
    "import csv\n",
    "phrases = []\n",
    "with open('/Users/lakerwayne/Desktop/YelpChallenge/American_new_salient.csv', 'rb') as csvfile:\n",
    "    wordsReader = csv.reader(csvfile, delimiter=' ', quotechar='|')\n",
    "    for row in wordsReader:\n",
    "        stat = row[0].split(',')\n",
    "        if stat[1] >= 0.8:\n",
    "            words = stat[0].split('_')\n",
    "            word = {words[0]: words[1]}\n",
    "            phrases.append(word)"
   ]
  },
  {
   "cell_type": "code",
   "execution_count": 6,
   "metadata": {},
   "outputs": [
    {
     "name": "stdout",
     "output_type": "stream",
     "text": [
      "+---+--------------------+--------------------+\n",
      "| id|              review|               words|\n",
      "+---+--------------------+--------------------+\n",
      "|  0|I was new to Toro...|[i, was, new, to,...|\n",
      "|  1|I have a confessi...|[i, have, a, conf...|\n",
      "|  2|If I would rather...|[if, i, would, ra...|\n",
      "|  3|Once in a while t...|[once, in, a, whi...|\n",
      "|  4|We can't stop her...|[we, can't, stop,...|\n",
      "+---+--------------------+--------------------+\n",
      "only showing top 5 rows\n",
      "\n"
     ]
    }
   ],
   "source": [
    "from pyspark.ml.feature import Tokenizer, RegexTokenizer\n",
    "from pyspark.sql.functions import col, udf\n",
    "\n",
    "cuisine_path = \"/Users/lakerwayne/Desktop/YelpChallenge/cuisines/review_American_new.txt\"\n",
    "reviews = []\n",
    "\n",
    "with open(cuisine_path, 'r') as txtfile:\n",
    "    rid = 0\n",
    "    for line in txtfile.readlines():\n",
    "        review = tuple([rid, line])\n",
    "        reviews.append(review)\n",
    "        rid += 1\n",
    "\n",
    "sentenceDataFrame = spark.createDataFrame(reviews, [\"id\", \"review\"])\n",
    "tokenizer = Tokenizer(inputCol=\"review\", outputCol=\"words\")\n",
    "tokenized = tokenizer.transform(sentenceDataFrame)\n",
    "tokenized.show(5)\n"
   ]
  },
  {
   "cell_type": "code",
   "execution_count": 7,
   "metadata": {
    "collapsed": true
   },
   "outputs": [],
   "source": [
    "from pyspark.ml.feature import StopWordsRemover\n",
    "\n",
    "remover = StopWordsRemover(inputCol=\"words\", outputCol=\"filtered\")\n",
    "tokenized = remover.transform(tokenized)"
   ]
  },
  {
   "cell_type": "code",
   "execution_count": 8,
   "metadata": {},
   "outputs": [
    {
     "name": "stdout",
     "output_type": "stream",
     "text": [
      "+---+--------------------+--------------------+--------------------+\n",
      "| id|              review|               words|            filtered|\n",
      "+---+--------------------+--------------------+--------------------+\n",
      "|  0|I was new to Toro...|[i, was, new, to,...|[new, toronto, vi...|\n",
      "|  1|I have a confessi...|[i, have, a, conf...|[confession, make...|\n",
      "|  2|If I would rather...|[if, i, would, ra...|[would, rather, r...|\n",
      "|  3|Once in a while t...|[once, in, a, whi...|[girls, feel, nee...|\n",
      "|  4|We can't stop her...|[we, can't, stop,...|[can't, stop, her...|\n",
      "+---+--------------------+--------------------+--------------------+\n",
      "only showing top 5 rows\n",
      "\n"
     ]
    }
   ],
   "source": [
    "tokenized.show(5)"
   ]
  },
  {
   "cell_type": "code",
   "execution_count": 9,
   "metadata": {
    "collapsed": true
   },
   "outputs": [],
   "source": [
    "from pyspark.sql.functions import struct\n",
    "from pyspark.sql.types import *\n",
    "import re\n",
    "\n",
    "def cleanup_text(record):\n",
    "    text = record[3]\n",
    "    text_out = [re.sub('[^a-zA-Z0-9]','',word) for word in text]\n",
    "    return text_out\n",
    "\n",
    "# define udf with an array of tokenized words\n",
    "udf_cleantext = udf(cleanup_text , ArrayType(StringType()))\n",
    "clean_text = tokenized.withColumn(\"results\", udf_cleantext(struct([tokenized[x] for x in tokenized.columns])))"
   ]
  },
  {
   "cell_type": "code",
   "execution_count": 10,
   "metadata": {},
   "outputs": [
    {
     "name": "stdout",
     "output_type": "stream",
     "text": [
      "+---+--------------------+--------------------+--------------------+--------------------+\n",
      "| id|              review|               words|            filtered|             results|\n",
      "+---+--------------------+--------------------+--------------------+--------------------+\n",
      "|  0|I was new to Toro...|[i, was, new, to,...|[new, toronto, vi...|[new, toronto, vi...|\n",
      "|  1|I have a confessi...|[i, have, a, conf...|[confession, make...|[confession, make...|\n",
      "|  2|If I would rather...|[if, i, would, ra...|[would, rather, r...|[would, rather, r...|\n",
      "|  3|Once in a while t...|[once, in, a, whi...|[girls, feel, nee...|[girls, feel, nee...|\n",
      "|  4|We can't stop her...|[we, can't, stop,...|[can't, stop, her...|[cant, stop, here...|\n",
      "+---+--------------------+--------------------+--------------------+--------------------+\n",
      "only showing top 5 rows\n",
      "\n"
     ]
    }
   ],
   "source": [
    "clean_text.show(5)"
   ]
  },
  {
   "cell_type": "code",
   "execution_count": 11,
   "metadata": {
    "collapsed": true
   },
   "outputs": [],
   "source": [
    "# properly convert phrases to proper format\n",
    "nphrases = {}\n",
    "for s in phrases:\n",
    "    nphrases[s.keys()[0]] = s.values()[0]"
   ]
  },
  {
   "cell_type": "code",
   "execution_count": 12,
   "metadata": {},
   "outputs": [
    {
     "name": "stdout",
     "output_type": "stream",
     "text": [
      "+---+--------------------+--------------------+--------------------+--------------------+\n",
      "| id|              review|               words|            filtered|             results|\n",
      "+---+--------------------+--------------------+--------------------+--------------------+\n",
      "|  0|I was new to Toro...|[i, was, new, to,...|[new, toronto, vi...|[new, toronto, vi...|\n",
      "|  1|I have a confessi...|[i, have, a, conf...|[confession, make...|[confession, make...|\n",
      "|  2|If I would rather...|[if, i, would, ra...|[would, rather, r...|[would, rather, r...|\n",
      "|  3|Once in a while t...|[once, in, a, whi...|[girls, feel, nee...|[girls, feel, nee...|\n",
      "|  4|We can't stop her...|[we, can't, stop,...|[can't, stop, her...|[cant, stop, here...|\n",
      "+---+--------------------+--------------------+--------------------+--------------------+\n",
      "only showing top 5 rows\n",
      "\n"
     ]
    }
   ],
   "source": [
    "merge = clean_text\n",
    "merge.show(5)"
   ]
  },
  {
   "cell_type": "code",
   "execution_count": 13,
   "metadata": {},
   "outputs": [
    {
     "name": "stdout",
     "output_type": "stream",
     "text": [
      "+--------------------+\n",
      "|           converted|\n",
      "+--------------------+\n",
      "|[new, toronto, vi...|\n",
      "|                  []|\n",
      "|                  []|\n",
      "|                  []|\n",
      "|[cant, stop, here...|\n",
      "+--------------------+\n",
      "only showing top 5 rows\n",
      "\n"
     ]
    }
   ],
   "source": [
    "def words2one(text):\n",
    "    list_of_words = text[4]\n",
    "    results = list_of_words\n",
    "    idx = 0\n",
    "    num_of_change=0\n",
    "    for i, w in enumerate(list_of_words):\n",
    "        idx = i-num_of_change\n",
    "        if i==len(list_of_words)-1:\n",
    "                continue\n",
    "        elif w in nphrases and nphrases[w]==list_of_words[i+1]:\n",
    "            results[idx] = results[idx]+\"_\"+results[idx+1]\n",
    "            results = results[:idx+1] + results[idx+2:]\n",
    "            num_of_change += 1\n",
    "    if num_of_change==0:\n",
    "        return []\n",
    "    return results\n",
    "\n",
    "udf_convert = udf(words2one, ArrayType(StringType()))\n",
    "ctext = merge.withColumn(\"converted\", udf_convert(struct([merge[y] for y in merge.columns])))\n",
    "ctext.select(\"converted\").show(5)"
   ]
  },
  {
   "cell_type": "code",
   "execution_count": null,
   "metadata": {
    "collapsed": true
   },
   "outputs": [],
   "source": [
    "from pyspark.ml.feature import Word2Vec\n",
    "\n",
    "word2Vec = Word2Vec(vectorSize=100, minCount=0, inputCol=\"converted\", outputCol=\"vectors\")\n",
    "model = word2Vec.setNumPartitions(10).fit(ctext.select(\"converted\"))"
   ]
  },
  {
   "cell_type": "code",
   "execution_count": 14,
   "metadata": {
    "collapsed": true
   },
   "outputs": [],
   "source": [
    "list_of_phrases = []\n",
    "for s in nphrases.items():\n",
    "    list_of_phrases.append(s[0] + \"_\" + s[1])"
   ]
  },
  {
   "cell_type": "code",
   "execution_count": 36,
   "metadata": {},
   "outputs": [
    {
     "name": "stdout",
     "output_type": "stream",
     "text": [
      "['word', 'vector']\n"
     ]
    }
   ],
   "source": [
    "print model.getVectors().columns"
   ]
  },
  {
   "cell_type": "code",
   "execution_count": null,
   "metadata": {
    "collapsed": true
   },
   "outputs": [],
   "source": [
    "model.getVectors().where(col(\"word\").isin(list_of_phrases)).toPandas().to_csv('cuisine_sim.csv')"
   ]
  }
 ],
 "metadata": {
  "kernelspec": {
   "display_name": "Python 2",
   "language": "python",
   "name": "python2"
  },
  "language_info": {
   "codemirror_mode": {
    "name": "ipython",
    "version": 2
   },
   "file_extension": ".py",
   "mimetype": "text/x-python",
   "name": "python",
   "nbconvert_exporter": "python",
   "pygments_lexer": "ipython2",
   "version": "2.7.13"
  }
 },
 "nbformat": 4,
 "nbformat_minor": 2
}
